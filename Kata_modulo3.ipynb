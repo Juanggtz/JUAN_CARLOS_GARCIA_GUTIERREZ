{
 "cells": [
  {
   "cell_type": "markdown",
   "metadata": {},
   "source": [
    "## Problema 1"
   ]
  },
  {
   "cell_type": "code",
   "execution_count": 7,
   "metadata": {},
   "outputs": [
    {
     "name": "stdout",
     "output_type": "stream",
     "text": [
      "¡Peligro! Asteroide con velocidad: 49km/s considerable rumbo a la tierra\n"
     ]
    }
   ],
   "source": [
    "# Añadir el código necesario para crear una variable que guarde la velocidad del asteroide.\n",
    "# Escribe una expresión de prueba para calcular si necesita una advertencia.\n",
    "# Agregue las instrucciones que se ejecutarán si la expresión de prueba es true o false.\n",
    "\n",
    "asteroide = 49 #Velocidad en km/s de un asteroide\n",
    "if (asteroide < 25):\n",
    "    print(\"No existe peligro de un asteroide\")\n",
    "else:\n",
    "    print(\"¡Peligro! Asteroide con velocidad: \"+str(asteroide)+\"km/s considerable rumbo a la tierra\")"
   ]
  },
  {
   "cell_type": "markdown",
   "metadata": {},
   "source": [
    "## Problema 2"
   ]
  },
  {
   "cell_type": "code",
   "execution_count": 8,
   "metadata": {},
   "outputs": [
    {
     "name": "stdout",
     "output_type": "stream",
     "text": [
      "Nada que ver\n"
     ]
    }
   ],
   "source": [
    "# Agrega el código para crear una variable para un asteroide que viaja a 19 km/s\n",
    "# Escribe varias expresiones de prueba para determinar si puedes ver el rayo de luz desde la tierra\n",
    "# Agrega las instrucciones que se ejecutarán si las expresiones de prueba son True o False\n",
    "\n",
    "asteroide = 19\n",
    "if (asteroide<20):\n",
    "    print(\"Nada que ver\")\n",
    "elif (asteroide==20):\n",
    "    print(\"¡Mira arriba! Hay una luz en el cielo, sí, es un asteroide disfrutalo\")\n",
    "else:\n",
    "    print(\"¡Mira arriba! Hay una luz en el cielo, sí, es un asteroide disfrutalo\")"
   ]
  },
  {
   "cell_type": "markdown",
   "metadata": {},
   "source": [
    "## Problema 3"
   ]
  },
  {
   "cell_type": "code",
   "execution_count": 9,
   "metadata": {},
   "outputs": [
    {
     "name": "stdout",
     "output_type": "stream",
     "text": [
      "Daño inminente a la tierra, reza por tu vida\n"
     ]
    }
   ],
   "source": [
    "# Agrega el código para crear nuevas variables para la velocidad y el tamaño del asteroide\n",
    "# Para probar el código, prueba con varias velocidades y tamaños\n",
    "# Escribe varias expresiones de prueba o combinaciones de expresiones de prueba para determinar qué mensaje se debe enviar a Tierra.\n",
    "\n",
    "tam_asteroide = 40  #Tamaño del asteroide medido por el diametro en m\n",
    "vel_asteroide = 20  #Velocidad del asteroide en km/s\n",
    "\n",
    "if ((tam_asteroide>=25 and vel_asteroide>=25) or tam_asteroide>=25):\n",
    "    print(\"Daño inminente a la tierra, reza por tu vida\")\n",
    "elif (vel_asteroide>=25):\n",
    "    print(\"¡Advertencia! Asteroide de diametro \",tam_asteroide,\"metros entrará a la atmósfera\")\n",
    "elif (vel_asteroide>=20):\n",
    "    print(\"¡Mira arriba! una hermosa luz\")\n",
    "else:\n",
    "    print(\"Nadad que ver\")"
   ]
  }
 ],
 "metadata": {
  "interpreter": {
   "hash": "d3e44f8847c6ebe2cd94bb17a5b25b7c9352c1956492f5a2e8069d04d1784acd"
  },
  "kernelspec": {
   "display_name": "Python 3.9.7 ('launchx')",
   "language": "python",
   "name": "python3"
  },
  "language_info": {
   "codemirror_mode": {
    "name": "ipython",
    "version": 3
   },
   "file_extension": ".py",
   "mimetype": "text/x-python",
   "name": "python",
   "nbconvert_exporter": "python",
   "pygments_lexer": "ipython3",
   "version": "3.9.7"
  },
  "orig_nbformat": 4
 },
 "nbformat": 4,
 "nbformat_minor": 2
}
