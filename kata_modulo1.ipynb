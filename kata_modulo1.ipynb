{
 "cells": [
  {
   "cell_type": "markdown",
   "metadata": {},
   "source": [
    "## FECHA"
   ]
  },
  {
   "cell_type": "code",
   "execution_count": 3,
   "metadata": {},
   "outputs": [
    {
     "name": "stdout",
     "output_type": "stream",
     "text": [
      "La fecha de hoy es: 2022-02-09\n"
     ]
    }
   ],
   "source": [
    "from datetime import date\n",
    "\n",
    "print(\"La fecha de hoy es: \"+str(date.today()))"
   ]
  },
  {
   "cell_type": "markdown",
   "metadata": {},
   "source": [
    "## Convertidor de parsec a años luz"
   ]
  },
  {
   "cell_type": "code",
   "execution_count": 4,
   "metadata": {},
   "outputs": [
    {
     "name": "stdout",
     "output_type": "stream",
     "text": [
      "11 parsec son 35.877159999999996 añoluz\n"
     ]
    }
   ],
   "source": [
    "parsec = 11\n",
    "\n",
    "print(str(parsec) + \" parsec son \" + str(parsec*3.26156) + \" añoluz\")"
   ]
  }
 ],
 "metadata": {
  "interpreter": {
   "hash": "d3e44f8847c6ebe2cd94bb17a5b25b7c9352c1956492f5a2e8069d04d1784acd"
  },
  "kernelspec": {
   "display_name": "Python 3.9.7 ('launchx')",
   "language": "python",
   "name": "python3"
  },
  "language_info": {
   "codemirror_mode": {
    "name": "ipython",
    "version": 3
   },
   "file_extension": ".py",
   "mimetype": "text/x-python",
   "name": "python",
   "nbconvert_exporter": "python",
   "pygments_lexer": "ipython3",
   "version": "3.9.7"
  },
  "orig_nbformat": 4
 },
 "nbformat": 4,
 "nbformat_minor": 2
}
