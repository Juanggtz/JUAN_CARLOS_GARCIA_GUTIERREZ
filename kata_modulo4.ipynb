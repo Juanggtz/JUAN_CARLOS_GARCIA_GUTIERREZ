{
 "cells": [
  {
   "cell_type": "markdown",
   "metadata": {},
   "source": [
    "## EJERCICIO 1: Transformar Cadenas"
   ]
  },
  {
   "cell_type": "code",
   "execution_count": 86,
   "metadata": {},
   "outputs": [],
   "source": [
    "text = \"\"\"Interesting facts about the Moon. The Moon is Earth's only satellite. There are several interesting facts about the Moon and how it affects life here on Earth. On average, the Moon moves 4cm away from the Earth every year. This yearly drift is not significant enough to cause immediate effects on Earth. The highest daylight temperature of the Moon is 127 C.\"\"\"\n"
   ]
  },
  {
   "cell_type": "code",
   "execution_count": 87,
   "metadata": {},
   "outputs": [
    {
     "name": "stdout",
     "output_type": "stream",
     "text": [
      "['Interesting facts about the Moon', \"The Moon is Earth's only satellite\", 'There are several interesting facts about the Moon and how it affects life here on Earth', 'On average, the Moon moves 4cm away from the Earth every year', 'This yearly drift is not significant enough to cause immediate effects on Earth', 'The highest daylight temperature of the Moon is 127 C.']\n",
      "Interesting facts about the MoonThe Moon is Earth's only satelliteThere are several interesting facts about the Moon and how it affects life here on EarthOn average, the Moon moves 4cm away from the Earth every yearThis yearly drift is not significant enough to cause immediate effects on EarthThe highest daylight temperature of the Moon is 127 C.\n"
     ]
    }
   ],
   "source": [
    "# Imprimir texto hasta punto y seguido\n",
    "text_1 =text.split(\". \")\n",
    "print(text_1)               #Texto dividido por oraciones\n",
    "text_2 = \"\"\n",
    "for oracion in text_1:\n",
    "    text_2 += oracion\n",
    "print(text_2)               #Texto sin puntos."
   ]
  },
  {
   "cell_type": "code",
   "execution_count": 88,
   "metadata": {},
   "outputs": [],
   "source": [
    "# Define las palabras pista: average, temperature y distance suenan bien\n",
    "\n",
    "keywords = [\"average\",\"temperature\",\"distance\"]"
   ]
  },
  {
   "cell_type": "code",
   "execution_count": 89,
   "metadata": {},
   "outputs": [
    {
     "name": "stdout",
     "output_type": "stream",
     "text": [
      "Las palabra encontradas fueron: average. temperature. \n"
     ]
    }
   ],
   "source": [
    "# Ciclo for para recorrer la cadena\n",
    "\n",
    "found_word = \"\"\n",
    "for word in keywords:\n",
    "    if word in text_2:\n",
    "        found_word += word + \". \"\n",
    "\n",
    "print(\"Las palabra encontradas fueron: \"+found_word)"
   ]
  },
  {
   "cell_type": "code",
   "execution_count": 90,
   "metadata": {},
   "outputs": [
    {
     "name": "stdout",
     "output_type": "stream",
     "text": [
      "Interesting facts about the Moon. The Moon is Earth's only satellite. There are several interesting facts about the Moon and how it affects life here on Earth. On average, the Moon moves 4cm away from the Earth every year. This yearly drift is not significant enough to cause immediate effects on Earth. The highest daylight temperature of the Moon is 127 Celsius.\n"
     ]
    }
   ],
   "source": [
    "# Ciclo para cambiar C a Celsius\n",
    "\n",
    "new_text = \"\"\n",
    "for word in text.split():\n",
    "    if word == \"C\":\n",
    "        new_text += \"Celsius \" \n",
    "    elif word == \"C.\":\n",
    "        new_text += \"Celsius.\"\n",
    "    else:\n",
    "        new_text += word +\" \"\n",
    "print(new_text)"
   ]
  },
  {
   "cell_type": "markdown",
   "metadata": {},
   "source": [
    "##  EJERICIO 2. Formateando Cadenas"
   ]
  },
  {
   "cell_type": "code",
   "execution_count": 91,
   "metadata": {},
   "outputs": [],
   "source": [
    "# Datos con los que vas a trabajar\n",
    "planeta = 'Marte '\n",
    "gravedad  = 0.00143\n",
    "nombre = 'Ganímedes'"
   ]
  },
  {
   "cell_type": "code",
   "execution_count": 92,
   "metadata": {},
   "outputs": [],
   "source": [
    "# Creamos el título\n",
    "titulo = \"datos de la gravedad en \"+nombre"
   ]
  },
  {
   "cell_type": "code",
   "execution_count": 93,
   "metadata": {},
   "outputs": [
    {
     "name": "stdout",
     "output_type": "stream",
     "text": [
      "--------------------------------------------------------------------------------\n",
      "Nombre del planeta: Marte \n",
      "Gravedad en: Ganímedes : 1.43 m/s^2\n"
     ]
    }
   ],
   "source": [
    "# Creamos la plantilla\n",
    "hechos = \"-\"*80 + \"\\nNombre del planeta: \"+planeta+\"\\nGravedad en: \"+nombre+\" : \"+str(round(gravedad*1000,2))+\" m/s^2\"\n",
    "print(hechos)"
   ]
  },
  {
   "cell_type": "code",
   "execution_count": 94,
   "metadata": {},
   "outputs": [
    {
     "name": "stdout",
     "output_type": "stream",
     "text": [
      "Datos De La Gravedad En Ganímedes\n",
      "--------------------------------------------------------------------------------\n",
      "Nombre del planeta: Marte \n",
      "Gravedad en: Ganímedes : 1.43 m/s^2\n",
      "\n"
     ]
    }
   ],
   "source": [
    "# Unión de ambas cadenas\n",
    "template = titulo.title()+\"\\n\"+hechos+\"\\n\"\n",
    "\n",
    "print(template)\n"
   ]
  },
  {
   "cell_type": "code",
   "execution_count": 101,
   "metadata": {},
   "outputs": [],
   "source": [
    "# Nuevos datos muestra\n",
    "planeta = 'Marte '\n",
    "gravedad  = 0.00143\n",
    "nombre = 'Ganímedes'"
   ]
  },
  {
   "cell_type": "code",
   "execution_count": 102,
   "metadata": {},
   "outputs": [
    {
     "name": "stdout",
     "output_type": "stream",
     "text": [
      "--------------------------------------------------------------------------------\n",
      "Nombre del planeta: Marte \n",
      "Gravedad en: Ganímedes : 1.43 m/s^2\n"
     ]
    }
   ],
   "source": [
    "\n",
    "# Comprobamos la plantilla\n",
    "print(hechos)"
   ]
  },
  {
   "cell_type": "code",
   "execution_count": 125,
   "metadata": {},
   "outputs": [
    {
     "name": "stdout",
     "output_type": "stream",
     "text": [
      "Datos de gravedad {nombre}\n",
      "{guion}\n",
      "Nombre del planeta: {planeta}\n",
      "Gravedad del planeta: {gravedad} m/s2\n",
      "Datos de gravedad Ganímedes\n",
      "--------------------------------------------------------------------------------\n",
      "Nombre del planeta: Marte \n",
      "Gravedad del planeta: 1000 m/s2\n"
     ]
    }
   ],
   "source": [
    "guion = '-'*80\n",
    "new_template = \"\"\"Datos de gravedad {nombre}\n",
    "{guion}\n",
    "Nombre del planeta: {planeta}\n",
    "Gravedad del planeta: {gravedad} m/s2\"\"\"\n",
    "print(new_template.format(nombre=nombre,guion=guion,planeta=planeta,gravedad=1000))"
   ]
  }
 ],
 "metadata": {
  "interpreter": {
   "hash": "d3e44f8847c6ebe2cd94bb17a5b25b7c9352c1956492f5a2e8069d04d1784acd"
  },
  "kernelspec": {
   "display_name": "Python 3.9.7 ('launchx')",
   "language": "python",
   "name": "python3"
  },
  "language_info": {
   "codemirror_mode": {
    "name": "ipython",
    "version": 3
   },
   "file_extension": ".py",
   "mimetype": "text/x-python",
   "name": "python",
   "nbconvert_exporter": "python",
   "pygments_lexer": "ipython3",
   "version": "3.9.7"
  },
  "orig_nbformat": 4
 },
 "nbformat": 4,
 "nbformat_minor": 2
}
