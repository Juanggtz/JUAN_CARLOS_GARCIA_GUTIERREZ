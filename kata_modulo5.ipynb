{
 "cells": [
  {
   "cell_type": "markdown",
   "metadata": {},
   "source": [
    "## Ejercicio1 - Utilizar operadores aritméticos"
   ]
  },
  {
   "cell_type": "code",
   "execution_count": 9,
   "metadata": {},
   "outputs": [
    {
     "name": "stdout",
     "output_type": "stream",
     "text": [
      "La distancia entre Júpiter y la Tierra es :  628948997  km\n",
      "La distancia entre Júpiter y la Tierra es :  390811759.48  millas\n"
     ]
    }
   ],
   "source": [
    "# Crear variables para almacenar las dos distancias\n",
    "# ¡Asegúrate de quitar las comas!\n",
    "\n",
    "distancia_sol_a_tierra = 149598261 #km\n",
    "distancia_sol_a_jupiter = 778547258 #km \n",
    "\n",
    "distancia_tierra_a_jupiter = abs(distancia_sol_a_tierra-distancia_sol_a_jupiter)\n",
    "\n",
    "print(\"La distancia entre Júpiter y la Tierra es : \",distancia_tierra_a_jupiter,\" km\")\n",
    "print(\"La distancia entre Júpiter y la Tierra es : \",round(distancia_tierra_a_jupiter/1.60934,2),\" millas\")"
   ]
  },
  {
   "cell_type": "markdown",
   "metadata": {},
   "source": [
    "## Ejercicio 2: convierte cadenas en números y usa valores absolutos"
   ]
  },
  {
   "cell_type": "code",
   "execution_count": 4,
   "metadata": {},
   "outputs": [
    {
     "name": "stdout",
     "output_type": "stream",
     "text": [
      "Ingreso una distancia negativa\n"
     ]
    }
   ],
   "source": [
    "# Almacenar las entradas del usuario\n",
    "try:\n",
    "    distancia_primer_planeta = float(input(\"Ingrese la distancia del sol al primer planeta en km: \"))\n",
    "    distancia_segundo_planeta = float(input(\"Ingrese la distancia del sol al segundo planeta en km: \")) \n",
    "    \n",
    "    if (distancia_primer_planeta>=0)and(distancia_segundo_planeta>=0):\n",
    "        print(\"El primer planeta tiene una distancia de: \",distancia_primer_planeta,\"km.\\n Y la distancia del segundo planeta es: \",distancia_segundo_planeta,\"km.\")\n",
    "        distancia_entre_planetas = abs(distancia_primer_planeta-distancia_segundo_planeta)\n",
    "        print(\"La distancia entre los planetas es: \",distancia_entre_planetas,\" km\")\n",
    "        print(\"La distancia entre los planetas es : \",round(distancia_entre_planetas/1.60934),\" millas\")\n",
    "    else:\n",
    "        print(\"Ingreso una distancia negativa\")\n",
    "except:\n",
    "    print(\"Debes ingresar un valor numérico\")"
   ]
  }
 ],
 "metadata": {
  "interpreter": {
   "hash": "d3e44f8847c6ebe2cd94bb17a5b25b7c9352c1956492f5a2e8069d04d1784acd"
  },
  "kernelspec": {
   "display_name": "Python 3.9.7 ('launchx')",
   "language": "python",
   "name": "python3"
  },
  "language_info": {
   "codemirror_mode": {
    "name": "ipython",
    "version": 3
   },
   "file_extension": ".py",
   "mimetype": "text/x-python",
   "name": "python",
   "nbconvert_exporter": "python",
   "pygments_lexer": "ipython3",
   "version": "3.9.7"
  },
  "orig_nbformat": 4
 },
 "nbformat": 4,
 "nbformat_minor": 2
}
