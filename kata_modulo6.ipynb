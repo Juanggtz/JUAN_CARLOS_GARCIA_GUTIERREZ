{
 "cells": [
  {
   "cell_type": "markdown",
   "metadata": {},
   "source": [
    "##  Ejercicio1: Crear y usar listas de Python"
   ]
  },
  {
   "cell_type": "code",
   "execution_count": 30,
   "metadata": {},
   "outputs": [
    {
     "name": "stdout",
     "output_type": "stream",
     "text": [
      "Hay  8  planetas en el sistema solar.\n",
      "Plutón no es un planeta, sino un planeta enano.\n"
     ]
    }
   ],
   "source": [
    "# Creamos la lista planets y la mostramos\n",
    "planets = [\"Mercurio\",\"Venus\",\"Tierra\",\"Marte\",\"Júpiter\",\"Saturno\",\"Uranio\",\"Neptuno\"]\n",
    "print(\"Hay \",len(planets),\" planetas en el sistema solar.\")\n",
    "\n",
    "planets.append(\"Plutón\")\n",
    "print(planets[-1], \"no es un planeta, sino un planeta enano.\")"
   ]
  },
  {
   "cell_type": "markdown",
   "metadata": {},
   "source": [
    "## Ejercicio 2: Trabajando con datos de una lista"
   ]
  },
  {
   "cell_type": "code",
   "execution_count": 9,
   "metadata": {},
   "outputs": [
    {
     "name": "stdout",
     "output_type": "stream",
     "text": [
      "Los planetas más cercanos son: \n",
      "MERCURIO\n",
      "\n",
      "Los planetas má lejanos son: \n",
      "VENUS\n",
      "TIERRA\n",
      "MARTE\n",
      "JUPITER\n",
      "SATURNO\n",
      "URANIO\n",
      "NEPTUNO\n"
     ]
    }
   ],
   "source": [
    "# Lista de planetas\n",
    "\n",
    "planets = [\"MERCURIO\",\"VENUS\",\"TIERRA\",\"MARTE\",\"JUPITER\",\"SATURNO\",\"URANIO\",\"NEPTUNO\"]\n",
    "\n",
    "planeta_usuario = input(\"Ingrese el planeta: \")\n",
    "planeta_usuario = planeta_usuario.upper()\n",
    "\n",
    "try:\n",
    "    indice_planeta = planets.index(planeta_usuario)\n",
    "    print(\"Los planetas más cercanos son: \")\n",
    "    for i in range(indice_planeta+1):\n",
    "        print(planets[i])\n",
    "    print(\"\\nLos planetas má lejanos son: \")\n",
    "    for i in range(indice_planeta+1,len(planets)):\n",
    "        print(planets[i])\n",
    "except:\n",
    "    print(\"No ingresó un planeta del sistema solar\")\n"
   ]
  }
 ],
 "metadata": {
  "interpreter": {
   "hash": "d3e44f8847c6ebe2cd94bb17a5b25b7c9352c1956492f5a2e8069d04d1784acd"
  },
  "kernelspec": {
   "display_name": "Python 3.9.7 ('launchx')",
   "language": "python",
   "name": "python3"
  },
  "language_info": {
   "codemirror_mode": {
    "name": "ipython",
    "version": 3
   },
   "file_extension": ".py",
   "mimetype": "text/x-python",
   "name": "python",
   "nbconvert_exporter": "python",
   "pygments_lexer": "ipython3",
   "version": "3.9.7"
  },
  "orig_nbformat": 4
 },
 "nbformat": 4,
 "nbformat_minor": 2
}
