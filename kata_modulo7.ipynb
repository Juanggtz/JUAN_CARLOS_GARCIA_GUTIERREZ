{
 "cells": [
  {
   "cell_type": "code",
   "execution_count": 9,
   "metadata": {},
   "outputs": [
    {
     "name": "stdout",
     "output_type": "stream",
     "text": [
      "El planeta jki no es correspondiente al sistema solar.\n",
      "El planeta hyhb no es correspondiente al sistema solar.\n",
      "\n",
      " \n",
      "\n",
      "El planeta no. 1  que ingreso es: TIERRA.\n",
      "El planeta no. 2  que ingreso es: VENUS.\n",
      "El planeta no. 3  que ingreso es: JUPITER.\n"
     ]
    }
   ],
   "source": [
    "## Ejercicio 1: Creación de un bucle \"while\"\n",
    "\n",
    "planetas_existentes=['MERCURIO','VENUS','TIERRA','MARTE','JUPITER','URANIO','SATURNO','NEPTUNO']\n",
    "planetas = []\n",
    "nuevo_planeta = ''\n",
    "\n",
    "while nuevo_planeta.lower()!='done':\n",
    "    nuevo_planeta = ''\n",
    "    nuevo_planeta = str(input('Ingrese un nuevo planeta, o \\'done\\' para terminar con el programa: '))\n",
    "\n",
    "    if nuevo_planeta == '':\n",
    "        continue\n",
    "\n",
    "    if nuevo_planeta.upper() in planetas_existentes:\n",
    "        planetas.append(nuevo_planeta)\n",
    "    elif nuevo_planeta.lower()!='done':\n",
    "        print('El planeta '+nuevo_planeta+' no es correspondiente al sistema solar.')  \n",
    "\n",
    "\n",
    "##   Ejercicio 2: Creación de un ciclo \"for\"\n",
    "print('\\n \\n')\n",
    "\n",
    "if len(planetas)>0:\n",
    "    i = 1\n",
    "    for planeta in planetas:\n",
    "        print('El planeta no.',i,' que ingreso es: '+str(planeta).upper()+'.')\n",
    "        i += 1\n",
    "else:\n",
    "    print('No ingreso un planeta correspondiente al sistema solar.')"
   ]
  }
 ],
 "metadata": {
  "interpreter": {
   "hash": "d3e44f8847c6ebe2cd94bb17a5b25b7c9352c1956492f5a2e8069d04d1784acd"
  },
  "kernelspec": {
   "display_name": "Python 3.9.7 ('launchx')",
   "language": "python",
   "name": "python3"
  },
  "language_info": {
   "codemirror_mode": {
    "name": "ipython",
    "version": 3
   },
   "file_extension": ".py",
   "mimetype": "text/x-python",
   "name": "python",
   "nbconvert_exporter": "python",
   "pygments_lexer": "ipython3",
   "version": "3.9.7"
  },
  "orig_nbformat": 4
 },
 "nbformat": 4,
 "nbformat_minor": 2
}
