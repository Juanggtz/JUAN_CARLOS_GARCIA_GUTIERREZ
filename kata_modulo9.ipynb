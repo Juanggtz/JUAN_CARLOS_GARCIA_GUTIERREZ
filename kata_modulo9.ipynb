{
 "cells": [
  {
   "cell_type": "markdown",
   "metadata": {},
   "source": [
    "## Ejercicio: Uso de funciones en Python"
   ]
  },
  {
   "cell_type": "code",
   "execution_count": 1,
   "metadata": {},
   "outputs": [
    {
     "name": "stdout",
     "output_type": "stream",
     "text": [
      "Reporte de tanques:\n",
      "    Promedio total = 26.11111111111111 litros.\n",
      "    Tanque no. 1 = 80 litros.\n",
      "    Tanque no. 2 = 70 litros.\n",
      "    Tanque no. 3 = 85 litros.\n"
     ]
    }
   ],
   "source": [
    "def tank_report(first_tank,second_tank,third_tank):\n",
    "    average1 = average([first_tank,second_tank,third_tank])/3\n",
    "    report = \"\"\"Reporte de tanques:\n",
    "    Promedio total = {0} litros.\n",
    "    Tanque no. 1 = {1} litros.\n",
    "    Tanque no. 2 = {2} litros.\n",
    "    Tanque no. 3 = {3} litros.\"\"\".format(average1,first_tank,second_tank,third_tank)\n",
    "    return report\n",
    "\n",
    "def average(tanks):\n",
    "    return sum(tanks)/len(tanks)\n",
    "\n",
    "print(tank_report(80,70,85))"
   ]
  },
  {
   "cell_type": "markdown",
   "metadata": {},
   "source": [
    "## Ejercicio 2: Trabajo con argumentos de palabra clave"
   ]
  },
  {
   "cell_type": "code",
   "execution_count": 2,
   "metadata": {},
   "outputs": [
    {
     "name": "stdout",
     "output_type": "stream",
     "text": [
      "\n",
      "    Mission a: Luna.\n",
      "    Punto de partida: Florida.\n",
      "    Fecha de la mision: 2022-02-17.\n",
      "    Hora de salida: 04:05:09.\n",
      "    Tiempo de despegue: 02:03:04.\n",
      "    Tiempo total de vuelo: 01:05:06.\n",
      "    Hora de llegada: 03:08:10.\n",
      "    Depósito del tanque izquierdo: 759 litros (0.76%).\n",
      "    Depósito del tanque derecho: 235 litros ((0, 2)%).\n"
     ]
    }
   ],
   "source": [
    "# Función con un informe preciso de la misión. Considera hora de prelanzamiento, tiempo de vuelo, destino, tanque externo y tanque interno\n",
    "from datetime import time,date\n",
    "\n",
    "def mission_report(lugar_partida,destino,fecha,hora_salida,tiempo_despegue,tiempo_vuelo,tanque_izquierdo,tanque_derecho):\n",
    "    # 100% del tanque = 1000 litros\n",
    "    report=f\"\"\"\n",
    "    Mission a: {destino}.\n",
    "    Punto de partida: {lugar_partida}.\n",
    "    Fecha de la mision: {fecha}.\n",
    "    Hora de salida: {fijar_hora(hora_salida)}.\n",
    "    Tiempo de despegue: {fijar_hora(tiempo_despegue)}.\n",
    "    Tiempo total de vuelo: {fijar_hora(tiempo_vuelo)}.\n",
    "    Hora de llegada: {fijar_hora(sumar_horas(tiempo_despegue,tiempo_vuelo))}.\n",
    "    Depósito del tanque izquierdo: {tanque_izquierdo} litros ({round(tanque_izquierdo/1000,2)}%).\n",
    "    Depósito del tanque derecho: {tanque_derecho} litros ({round(tanque_derecho/1000),2}%).\"\"\"\n",
    "    return report\n",
    "\n",
    "def fijar_hora(horario):\n",
    "    return (time(horario[0],horario[1],horario[2]))\n",
    "\n",
    "def sumar_horas(l1,l2):\n",
    "    list=[0,0,0]\n",
    "    for i in range(len(l1)):\n",
    "        list[i] += l1[i]+l2[i]\n",
    "    \n",
    "    for i in range(list[2]//60):\n",
    "        if list[2]>59:\n",
    "            list[1] += 1\n",
    "            list[2] -=60\n",
    "    \n",
    "    for i in range(list[1]//60):\n",
    "        if list[1]>59:\n",
    "            list[0] += 1\n",
    "            list[1] -= 60\n",
    "            \n",
    "    for i in range(list[0]//24):\n",
    "        if list[0]>23:\n",
    "            list[0] -= 24\n",
    "    return list\n",
    "\n",
    "\n",
    "\n",
    "print(mission_report(\"Florida\",\"Luna\",date.today(),[4,5,9],[2,3,4],[1,5,6],759,235))\n",
    "\n"
   ]
  }
 ],
 "metadata": {
  "interpreter": {
   "hash": "d3e44f8847c6ebe2cd94bb17a5b25b7c9352c1956492f5a2e8069d04d1784acd"
  },
  "kernelspec": {
   "display_name": "Python 3.9.7 ('launchx')",
   "language": "python",
   "name": "python3"
  },
  "language_info": {
   "codemirror_mode": {
    "name": "ipython",
    "version": 3
   },
   "file_extension": ".py",
   "mimetype": "text/x-python",
   "name": "python",
   "nbconvert_exporter": "python",
   "pygments_lexer": "ipython3",
   "version": "3.9.7"
  },
  "orig_nbformat": 4
 },
 "nbformat": 4,
 "nbformat_minor": 2
}
